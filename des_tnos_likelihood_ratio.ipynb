{
 "cells": [
  {
   "cell_type": "code",
   "execution_count": 2,
   "metadata": {
    "id": "g_MAYz5YCmyN"
   },
   "outputs": [],
   "source": [
    "import astropy.io.fits as pf\n",
    "import numpy as np\n",
    "import scipy.stats\n",
    "import matplotlib.pyplot as plt\n",
    "\n",
    "\n",
    "#from matplotlib.backends.backend_pdf import PdfPages\n"
   ]
  },
  {
   "cell_type": "code",
   "execution_count": 4,
   "metadata": {},
   "outputs": [
    {
     "data": {
      "text/plain": [
       "\"\\nColDefs(\\n    name = 'ABG'; format = '6D'; dim = '(6)'\\n    name = 'ABGINVCOV'; format = '36D'; dim = '(36)'\\n    name = 'ARC'; format = 'D'\\n    name = 'ARCCUT'; format = 'D'\\n    name = 'CHANGED'; format = 'L'\\n    name = 'CHISQ'; format = 'D'\\n    name = 'ELEMENTCOV'; format = '36D'; dim = '(36)'\\n    name = 'ELEMENTS'; format = '6D'; dim = '(6)'\\n    name = 'FPR'; format = 'D'\\n    name = 'FRAME'; format = '7D'; dim = '(7)'\\n    name = 'GROUP'; format = 'J'; null = 999999\\n    name = 'MAXOVERLAP'; format = 'J'; null = 999999\\n    name = 'NDETECT'; format = 'J'; null = 999999\\n    name = 'NUNIQUE'; format = 'J'; null = 999999\\n    name = 'OLDID'; format = 'K'; null = 999999\\n    name = 'OVERLAP'; format = 'L'\\n    name = 'XV'; format = '6D'; dim = '(6)'\\n    name = 'XVINVCOV'; format = '36D'; dim = '(36)'\\n    name = 'ORBITID'; format = 'K'; null = 999999\\n    name = 'EQUIV'; format = 'K'; null = 999999\\n    name = 'a'; format = 'D'\\n    name = 'e'; format = 'D'\\n    name = 'q'; format = 'D'\\n    name = 'Class'; format = '24A'\\n    name = 'DIST'; format = 'D'\\n    name = 'i'; format = 'D'\\n    name = 'MPC'; format = '12A'\\n    name = 'FLUX_g'; format = 'D'\\n    name = 'FLUX_r'; format = 'D'\\n    name = 'FLUX_i'; format = 'D'\\n    name = 'FLUX_z'; format = 'D'\\n    name = 'FLUX_Y'; format = 'D'\\n    name = 'm_g'; format = 'D'\\n    name = 'm_r'; format = 'D'\\n    name = 'm_i'; format = 'D'\\n    name = 'm_z'; format = 'D'\\n    name = 'm_Y'; format = 'D'\\n    name = 'FLUX_ERR_g'; format = 'D'\\n    name = 'sigma_m_g'; format = 'D'\\n    name = 'FLUX_ERR_r'; format = 'D'\\n    name = 'sigma_m_r'; format = 'D'\\n    name = 'FLUX_ERR_i'; format = 'D'\\n    name = 'sigma_m_i'; format = 'D'\\n    name = 'FLUX_ERR_z'; format = 'D'\\n    name = 'sigma_m_z'; format = 'D'\\n    name = 'FLUX_ERR_Y'; format = 'D'\\n    name = 'sigma_m_Y'; format = 'D'\\n    name = 'd'; format = 'D'\\n    name = 'H_r'; format = 'D'\\n    name = 'r'; format = 'D'\\n    name = 'H_g'; format = 'D'\\n    name = 'H_i'; format = 'D'\\n    name = 'H_z'; format = 'D'\\n    name = 'H_Y'; format = 'D'\\n    name = 'CLASS'; format = '10A'\\n    name = 'p_res'; format = 'K'; null = 999999\\n    name = 'q_res'; format = 'K'; null = 999999\\n    name = 'amp'; format = 'D'\\n    name = 'mean'; format = 'D'\\n)\\n\""
      ]
     },
     "execution_count": 4,
     "metadata": {},
     "output_type": "execute_result"
    }
   ],
   "source": [
    "file_name = \"/Users/plazas/Documents/TNO_KPO/y6_res.fits\"\n",
    "plt.rcParams.update({'figure.max_open_warning': 0})\n",
    "\n",
    "\"\"\"\n",
    "ColDefs(\n",
    "    name = 'ABG'; format = '6D'; dim = '(6)'\n",
    "    name = 'ABGINVCOV'; format = '36D'; dim = '(36)'\n",
    "    name = 'ARC'; format = 'D'\n",
    "    name = 'ARCCUT'; format = 'D'\n",
    "    name = 'CHANGED'; format = 'L'\n",
    "    name = 'CHISQ'; format = 'D'\n",
    "    name = 'ELEMENTCOV'; format = '36D'; dim = '(36)'\n",
    "    name = 'ELEMENTS'; format = '6D'; dim = '(6)'\n",
    "    name = 'FPR'; format = 'D'\n",
    "    name = 'FRAME'; format = '7D'; dim = '(7)'\n",
    "    name = 'GROUP'; format = 'J'; null = 999999\n",
    "    name = 'MAXOVERLAP'; format = 'J'; null = 999999\n",
    "    name = 'NDETECT'; format = 'J'; null = 999999\n",
    "    name = 'NUNIQUE'; format = 'J'; null = 999999\n",
    "    name = 'OLDID'; format = 'K'; null = 999999\n",
    "    name = 'OVERLAP'; format = 'L'\n",
    "    name = 'XV'; format = '6D'; dim = '(6)'\n",
    "    name = 'XVINVCOV'; format = '36D'; dim = '(36)'\n",
    "    name = 'ORBITID'; format = 'K'; null = 999999\n",
    "    name = 'EQUIV'; format = 'K'; null = 999999\n",
    "    name = 'a'; format = 'D'\n",
    "    name = 'e'; format = 'D'\n",
    "    name = 'q'; format = 'D'\n",
    "    name = 'Class'; format = '24A'\n",
    "    name = 'DIST'; format = 'D'\n",
    "    name = 'i'; format = 'D'\n",
    "    name = 'MPC'; format = '12A'\n",
    "    name = 'FLUX_g'; format = 'D'\n",
    "    name = 'FLUX_r'; format = 'D'\n",
    "    name = 'FLUX_i'; format = 'D'\n",
    "    name = 'FLUX_z'; format = 'D'\n",
    "    name = 'FLUX_Y'; format = 'D'\n",
    "    name = 'm_g'; format = 'D'\n",
    "    name = 'm_r'; format = 'D'\n",
    "    name = 'm_i'; format = 'D'\n",
    "    name = 'm_z'; format = 'D'\n",
    "    name = 'm_Y'; format = 'D'\n",
    "    name = 'FLUX_ERR_g'; format = 'D'\n",
    "    name = 'sigma_m_g'; format = 'D'\n",
    "    name = 'FLUX_ERR_r'; format = 'D'\n",
    "    name = 'sigma_m_r'; format = 'D'\n",
    "    name = 'FLUX_ERR_i'; format = 'D'\n",
    "    name = 'sigma_m_i'; format = 'D'\n",
    "    name = 'FLUX_ERR_z'; format = 'D'\n",
    "    name = 'sigma_m_z'; format = 'D'\n",
    "    name = 'FLUX_ERR_Y'; format = 'D'\n",
    "    name = 'sigma_m_Y'; format = 'D'\n",
    "    name = 'd'; format = 'D'\n",
    "    name = 'H_r'; format = 'D'\n",
    "    name = 'r'; format = 'D'\n",
    "    name = 'H_g'; format = 'D'\n",
    "    name = 'H_i'; format = 'D'\n",
    "    name = 'H_z'; format = 'D'\n",
    "    name = 'H_Y'; format = 'D'\n",
    "    name = 'CLASS'; format = '10A'\n",
    "    name = 'p_res'; format = 'K'; null = 999999\n",
    "    name = 'q_res'; format = 'K'; null = 999999\n",
    "    name = 'amp'; format = 'D'\n",
    "    name = 'mean'; format = 'D'\n",
    ")\n",
    "\"\"\"\n"
   ]
  },
  {
   "cell_type": "code",
   "execution_count": 3,
   "metadata": {},
   "outputs": [
    {
     "name": "stdout",
     "output_type": "stream",
     "text": [
      "154 53 382 225\n"
     ]
    }
   ],
   "source": [
    "data = pf.open(file_name)[1].data\n",
    "\n",
    "mask_detached = (data['CLASS'] == 'Detached')\n",
    "mask_scattered = (data['CLASS'] == 'Scattering')\n",
    "mask_classical = (data['CLASS'] == 'Classical')\n",
    "mask_resonant = (data['CLASS'] == 'Resonant')\n",
    "\n",
    "detached = data[mask_detached]\n",
    "scattered = data[mask_scattered]\n",
    "classical = data[mask_classical]\n",
    "resonant = data[mask_resonant]\n",
    "\n",
    "\n",
    "print(len(detached), len(scattered), len(classical), len(resonant))"
   ]
  },
  {
   "cell_type": "code",
   "execution_count": 4,
   "metadata": {},
   "outputs": [],
   "source": [
    "# unkwnon\n",
    "gi_detached = detached['m_g'] - detached['m_i']\n",
    "\n",
    "# Parent\n",
    "gi_classical = classical['m_g'] - classical['m_i']\n",
    "gi_scattered = scattered['m_g'] - scattered['m_i']"
   ]
  },
  {
   "cell_type": "code",
   "execution_count": 8,
   "metadata": {},
   "outputs": [
    {
     "data": {
      "text/plain": [
       "Text(0.5, 1.0, 'g-i scattered (53)')"
      ]
     },
     "execution_count": 8,
     "metadata": {},
     "output_type": "execute_result"
    },
    {
     "data": {
      "image/png": "[encoded data removed]",
      "text/plain": [
       "<Figure size 432x288 with 1 Axes>"
      ]
     },
     "metadata": {
      "needs_background": "light"
     },
     "output_type": "display_data"
    },
    {
     "data": {
      "image/png": "[encoded data removed]",
      "text/plain": [
       "<Figure size 432x288 with 1 Axes>"
      ]
     },
     "metadata": {
      "needs_background": "light"
     },
     "output_type": "display_data"
    },
    {
     "data": {
      "image/png": "[encoded data removed]",
      "text/plain": [
       "<Figure size 432x288 with 1 Axes>"
      ]
     },
     "metadata": {
      "needs_background": "light"
     },
     "output_type": "display_data"
    }
   ],
   "source": [
    "mean_gi_det = np.mean(gi_detached)\n",
    "median_gi_det = np.median(gi_detached)\n",
    "std_gi_det = np.std(gi_detached)\n",
    "\n",
    "fig = plt.figure()\n",
    "_ = plt.hist(gi_detached, bins='auto', density=True, label=f\"mean: {mean_gi_det:.2f} \\n median: {median_gi_det:.2f} \\n std: {std_gi_det:.2f}\")\n",
    "plt.legend()\n",
    "plt.title(f\"g-i detached ({len(detached)})\")\n",
    "#pp.savefig(fig)\n",
    "\n",
    "\n",
    "mean_gi_cla = np.mean(gi_classical)\n",
    "median_gi_cla = np.median(gi_classical)\n",
    "std_gi_cla = np.std(gi_classical)\n",
    "\n",
    "fig = plt.figure()\n",
    "_ = plt.hist(gi_classical, bins='auto', density=True, label=f\"mean: {mean_gi_cla:.2f} \\n median: {median_gi_cla:.2f} \\n std: {std_gi_cla:.2f}\")\n",
    "plt.legend()\n",
    "plt.title(f\"g-i classical ({len(classical)})\")\n",
    "#pp.savefig(fig)\n",
    "\n",
    "mean_gi_sca = np.mean(gi_scattered)\n",
    "median_gi_sca = np.median(gi_scattered)\n",
    "std_gi_sca = np.std(gi_scattered)\n",
    "\n",
    "\n",
    "fig = plt.figure()\n",
    "_ = plt.hist(gi_scattered, bins='auto', density=True, label=f\"mean: {mean_gi_sca:.2f} \\n median: {median_gi_sca:.2f} \\n std: {std_gi_sca:.2f}\")\n",
    "plt.legend()\n",
    "plt.title(f\"g-i scattered ({len(scattered)})\")\n",
    "#pp.savefig(fig)\n"
   ]
  },
  {
   "cell_type": "code",
   "execution_count": 9,
   "metadata": {},
   "outputs": [],
   "source": [
    "# Define probabilities of parent populations\n",
    "\n",
    "#Classical\n",
    "hist1 = np.histogram(gi_classical, bins='auto', density=True)\n",
    "hist_dist1 = scipy.stats.rv_histogram(hist1)\n",
    "\n",
    "#scattered\n",
    "hist2 = np.histogram(gi_scattered, bins='auto', density=True)\n",
    "hist_dist2 = scipy.stats.rv_histogram(hist2)\n"
   ]
  },
  {
   "cell_type": "code",
   "execution_count": 10,
   "metadata": {},
   "outputs": [],
   "source": [
    "# Likehood ratio of parent populations\n",
    "def ratio_parent_populations(samples):\n",
    "    # ratio of two probability distributions defined above\n",
    "    r = hist_dist1.pdf(samples)/hist_dist2.pdf(samples)\n",
    "    # Some 'inf' result from above...\n",
    "    mask = np.isinf(r)\n",
    "    return r[~mask]"
   ]
  },
  {
   "cell_type": "code",
   "execution_count": 19,
   "metadata": {},
   "outputs": [
    {
     "name": "stdout",
     "output_type": "stream",
     "text": [
      "5\n"
     ]
    },
    {
     "name": "stderr",
     "output_type": "stream",
     "text": [
      "/anaconda3/lib/python3.7/site-packages/ipykernel_launcher.py:4: RuntimeWarning: divide by zero encountered in true_divide\n",
      "  after removing the cwd from sys.path.\n"
     ]
    },
    {
     "name": "stdout",
     "output_type": "stream",
     "text": [
      "d1:  2.129336987597036 1.0654750043177066 3.243416616868832\n",
      "d2:  0.468208758615523 0.2057662063225119 0.8944640036333047\n",
      "d1, 5 0.14980089251649983\n",
      "d2, 95 1.7154395795668442\n",
      "6\n",
      "d1:  2.448157090086483 1.0780044337109889 4.269535939302979\n",
      "d2:  0.3766443116792795 0.14378624563376297 0.8419849137336058\n",
      "d1, 5 0.12267836959918374\n",
      "d2, 95 1.4013809316341466\n",
      "7\n",
      "d1:  2.779804303153158 1.1116057556813423 5.000917435781093\n",
      "d2:  0.35384435477400233 0.10978538771265428 1.110462900363671\n",
      "d1, 5 0.09821398516243238\n",
      "d2, 95 1.3186921085769034\n",
      "8\n",
      "d1:  3.3742175826641687 1.1009106059244997 7.511722203169471\n",
      "d2:  0.2919635259435194 0.08074040113661193 0.8353069919296303\n",
      "d1, 5 0.08712325302348052\n",
      "d2, 95 1.1563311734646373\n",
      "9\n",
      "d1:  3.6637481169668944 1.0771770562132192 8.869856232420878\n",
      "d2:  0.2705954240745101 0.05753325823309376 1.328844943515195\n",
      "d1, 5 0.07468696669298185\n",
      "d2, 95 0.9903765320845039\n",
      "10\n",
      "d1:  4.618375830645164 1.1486464811608488 12.625434882413511\n",
      "d2:  0.2176547233158198 0.041418804205268375 0.8191786216053446\n",
      "d1, 5 0.06788445462682281\n",
      "d2, 95 0.855389875207405\n",
      "11\n",
      "d1:  5.354842322048583 1.1853955348579124 19.566922836068304\n",
      "d2:  0.18900062394597794 0.030692263835967595 0.9272561919431583\n",
      "d1, 5 0.06103073655868193\n",
      "d2, 95 0.6951495635270474\n",
      "12\n",
      "d1:  5.82157366264817 1.1183734695220746 19.817113149216315\n",
      "d2:  0.17154139899814097 0.021230161027867192 1.0548400051485218\n",
      "d1, 5 0.051752142272322645\n",
      "d2, 95 0.5710894987392301\n",
      "13\n",
      "d1:  6.84493194833966 1.150690863257287 26.463388060130825\n",
      "d2:  0.15038745742786852 0.01612853426597164 1.1218596738846844\n",
      "d1, 5 0.04273131596672796\n",
      "d2, 95 0.4691938572377732\n",
      "14\n",
      "d1:  8.300484327394333 1.1951043106594847 39.47402342935837\n",
      "d2:  0.10792773658704972 0.012308722371087055 0.5110616186894286\n",
      "d1, 5 0.04019026843291005\n",
      "d2, 95 0.4094797735392866\n",
      "15\n",
      "d1:  9.511263093453268 1.2057038528904696 41.35823233815114\n",
      "d2:  0.09861037343981609 0.00893768081359587 0.9299865671351538\n",
      "d1, 5 0.03767553119145285\n",
      "d2, 95 0.3070833466489501\n",
      "16\n",
      "d1:  10.230590649758915 1.198001011107797 56.261468420786336\n",
      "d2:  0.08450743471779334 0.005799556557237224 0.7592947241762884\n",
      "d1, 5 0.03413236717564887\n",
      "d2, 95 0.2550244892066012\n",
      "17\n",
      "d1:  13.441385128081063 1.2718109663118362 80.1580214069924\n",
      "d2:  0.07417520336878478 0.004587128116820738 0.7973611319771319\n",
      "d1, 5 0.030739116311233657\n",
      "d2, 95 0.21258168319681042\n",
      "18\n",
      "d1:  15.090398856995334 1.2841834216986827 114.30253421123118\n",
      "d2:  0.06644133762648502 0.003637841907321928 0.5402282152654917\n",
      "d1, 5 0.029601456333861628\n",
      "d2, 95 0.168893478407442\n",
      "19\n",
      "d1:  17.47603082882902 1.336290732387327 135.82441569864446\n",
      "d2:  0.041705847380317615 0.002404691607949241 0.29804703963098717\n",
      "d1, 5 0.0272789321334781\n",
      "d2, 95 0.13693789771733467\n",
      "20\n",
      "d1:  21.457494560929177 1.2705492117547657 216.00057167505932\n",
      "d2:  0.05024593018656422 0.0018854768487568635 0.7740734153696264\n",
      "d1, 5 0.02157257863618717\n",
      "d2, 95 0.1199594954687914\n",
      "21\n",
      "d1:  23.75262509333673 1.3514858962939944 482.71073307170036\n",
      "d2:  0.03590503679409207 0.0012343505172225581 0.33541727186381304\n",
      "d1, 5 0.022052400532502552\n",
      "d2, 95 0.09899545228797887\n",
      "22\n",
      "d1:  23.44499072627001 1.2966951803753832 164.46198774896263\n",
      "d2:  0.023864377737041385 0.0009640061486738307 0.18917314175663033\n",
      "d1, 5 0.020911493442378845\n",
      "d2, 95 0.07369252884577046\n",
      "23\n",
      "d1:  28.0431841346284 1.2569582480785462 215.61255986987723\n",
      "d2:  0.02676832378792557 0.0006848187865278678 0.2501908850089664\n",
      "d1, 5 0.018683795999310762\n",
      "d2, 95 0.06247652693274519\n",
      "24\n",
      "d1:  37.52899687728476 1.37385358754104 355.96309076671787\n",
      "d2:  0.02227262502569782 0.0004903060863826159 0.2715876434144157\n",
      "d1, 5 0.017513697290128506\n",
      "d2, 95 0.0470647969519238\n",
      "25\n",
      "d1:  43.68678063601993 1.3748089289947045 575.8495476001282\n",
      "d2:  0.027825949148007238 0.0003668714905745667 0.45359927904825936\n",
      "d1, 5 0.01638812414175077\n",
      "d2, 95 0.03929289216374136\n",
      "26\n",
      "d1:  40.840875656798566 1.4385939600237316 288.4320439860156\n",
      "d2:  0.02008635929205891 0.0002657120464233043 0.5718624398440799\n",
      "d1, 5 0.014809705481138899\n",
      "d2, 95 0.03258328153219601\n",
      "27\n",
      "d1:  67.77740460838888 1.438023977141789 933.4119815608266\n",
      "d2:  0.011049165799464139 0.0001932885450107199 0.13995550813742658\n",
      "d1, 5 0.012931626560706119\n",
      "d2, 95 0.023006348028450852\n",
      "28\n",
      "d1:  67.54669590039646 1.4987613531456947 1041.119058385776\n",
      "d2:  0.008853270259366233 0.00013817618286906147 0.11184935393767641\n",
      "d1, 5 0.013623580164085842\n",
      "d2, 95 0.01893762185642953\n",
      "29\n",
      "d1:  67.07948538658792 1.4923699362408467 988.3855860948033\n",
      "d2:  0.012026615482302678 0.00010351584112544576 0.2696742476943848\n",
      "d1, 5 0.012154090361719013\n",
      "d2, 95 0.015832661177932427\n",
      "30\n",
      "d1:  74.15152882643062 1.4471807417244902 844.6377045226126\n",
      "d2:  0.011781348300518272 7.368992824938585e-05 0.2821338847280744\n",
      "d1, 5 0.011492685192676514\n",
      "d2, 95 0.01330227530484909\n",
      "31\n",
      "d1:  85.81705573548777 1.4668294326166476 813.6368911172544\n",
      "d2:  0.00828002589657361 5.2326015038298135e-05 0.366922433030345\n",
      "d1, 5 0.01052873014307984\n",
      "d2, 95 0.009758546538785235\n",
      "32\n",
      "d1:  154.38472145945326 1.3583377597363724 5832.978080481374\n",
      "d2:  0.004489935706996321 3.6111267131443966e-05 0.05874375873053032\n",
      "d1, 5 0.009790397328097316\n",
      "d2, 95 0.008271297882764489\n",
      "33\n",
      "d1:  134.11740194663602 1.5118441067469948 1616.5965044520663\n",
      "d2:  0.004978796313776453 2.782473404901089e-05 0.09786117326258227\n",
      "d1, 5 0.009955434373659425\n",
      "d2, 95 0.006587207016214562\n",
      "34\n",
      "d1:  234.05155834949022 1.493453389042679 5514.7193196920425\n",
      "d2:  0.0034001811758310125 1.964477004974385e-05 0.043911215262911266\n",
      "d1, 5 0.009391698116304258\n",
      "d2, 95 0.0053937530262687956\n",
      "35\n",
      "d1:  217.2520742051136 1.4801647745632103 8026.559977621797\n",
      "d2:  0.0040936693634442516 1.5636522837081522e-05 0.11439708026882348\n",
      "d1, 5 0.007886650963134454\n",
      "d2, 95 0.004285184593884505\n",
      "36\n",
      "d1:  162.22654085090804 1.469618150074829 2658.9627836832974\n",
      "d2:  0.003024245602951497 1.0376837036412056e-05 0.05632494536213755\n",
      "d1, 5 0.008052871093252138\n",
      "d2, 95 0.0032154620694112824\n",
      "37\n",
      "d1:  233.74065805909922 1.4624021173752983 4542.750452172269\n",
      "d2:  0.005362141904200284 8.171804586229246e-06 0.17813905064858132\n",
      "d1, 5 0.007261224150334631\n",
      "d2, 95 0.0028225926938102866\n",
      "38\n",
      "d1:  220.0354375283108 1.6865807530217745 4455.175396312119\n",
      "d2:  0.0018959866322110052 5.222845357662035e-06 0.04505380038147571\n",
      "d1, 5 0.007292507286566055\n",
      "d2, 95 0.0020448791424906277\n",
      "39\n",
      "d1:  479.88458468481565 1.7271353314261122 11682.417199978789\n",
      "d2:  0.002725070132072404 4.533772873353446e-06 0.06996313464026871\n",
      "d1, 5 0.006895842475151819\n",
      "d2, 95 0.001563549401023985\n"
     ]
    }
   ],
   "source": [
    "n_realizations=10000\n",
    "n_samples_array = range(5,40) #[29, 30, 31, 32, 33, 34, 35, 36, 37, 38, 39, 40]\n",
    "\n",
    "d1=[] # hist_dist1, classical\n",
    "d2=[] # hist_dist2, scattered\n",
    "\n",
    "threshold_d1_5=[] #5th percentile\n",
    "threshold_d2_95=[] #95th percentile\n",
    "\n",
    "for n_samples in n_samples_array:\n",
    "    print (n_samples)\n",
    "    d1=[]\n",
    "    d2=[]\n",
    "    for i in range(n_realizations):\n",
    "        samples1 = hist_dist1.rvs(size=n_samples)\n",
    "        d1.append(np.prod(ratio_parent_populations(samples1)))\n",
    "        samples2 = hist_dist2.rvs(size=n_samples)\n",
    "        d2.append(np.prod(ratio_parent_populations(samples2)))\n",
    "\n",
    "\n",
    "    d1 = np.array(d1)\n",
    "    d2 = np.array(d2)\n",
    "\n",
    "    print (\"d1: \", np.mean(d1), np.median(d1), np.std(d1))\n",
    "    print (\"d2: \", np.mean(d2), np.median(d2), np.std(d2))\n",
    "  \n",
    "    d1_per_5 = np.percentile(d1, 5)\n",
    "    d2_per_95 = np.percentile(d2, 95)\n",
    "    print (\"d1, 5\" , d1_per_5)\n",
    "    print (\"d2, 95\", d2_per_95)\n",
    "    \n",
    "    threshold_d1_5.append(d1_per_5)\n",
    "    threshold_d2_95.append(d2_per_95)"
   ]
  },
  {
   "cell_type": "code",
   "execution_count": 24,
   "metadata": {},
   "outputs": [
    {
     "data": {
      "text/plain": [
       "<matplotlib.legend.Legend at 0x1c23c5b128>"
      ]
     },
     "execution_count": 24,
     "metadata": {},
     "output_type": "execute_result"
    },
    {
     "data": {
      "image/png": "[encoded data removed]",
      "text/plain": [
       "<Figure size 432x288 with 1 Axes>"
      ]
     },
     "metadata": {
      "needs_background": "light"
     },
     "output_type": "display_data"
    },
    {
     "data": {
      "image/png": "[encoded data removed]",
      "text/plain": [
       "<Figure size 432x288 with 1 Axes>"
      ]
     },
     "metadata": {
      "needs_background": "light"
     },
     "output_type": "display_data"
    }
   ],
   "source": [
    "fig = plt.figure()\n",
    "plt.plot(n_samples_array, threshold_d1_5, label='d1 P5 (classical)')\n",
    "plt.plot(n_samples_array, threshold_d2_95, label='d2 P95 (scattered)')\n",
    "plt.legend()\n",
    "\n",
    "fig = plt.figure()\n",
    "plt.plot(n_samples_array, threshold_d1_5, label='d1 P5 (classical)')\n",
    "plt.plot(n_samples_array, threshold_d2_95, label='d2 P95 (scattered)')\n",
    "plt.xlim([25,40])\n",
    "plt.ylim([0., 0.06])\n",
    "plt.legend()"
   ]
  },
  {
   "cell_type": "code",
   "execution_count": null,
   "metadata": {},
   "outputs": [],
   "source": []
  }
 ],
 "metadata": {
  "colab": {
   "collapsed_sections": [],
   "name": "des-tnos-likelihood-ratio.ipynb",
   "provenance": []
  },
  "kernelspec": {
   "display_name": "Python 3",
   "language": "python",
   "name": "python3"
  },
  "language_info": {
   "codemirror_mode": {
    "name": "ipython",
    "version": 3
   },
   "file_extension": ".py",
   "mimetype": "text/x-python",
   "name": "python",
   "nbconvert_exporter": "python",
   "pygments_lexer": "ipython3",
   "version": "3.7.3"
  }
 },
 "nbformat": 4,
 "nbformat_minor": 1
}
