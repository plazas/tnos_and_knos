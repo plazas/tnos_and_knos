{
 "cells": [
  {
   "cell_type": "code",
   "execution_count": 11,
   "metadata": {
    "id": "g_MAYz5YCmyN"
   },
   "outputs": [],
   "source": [
    "import astropy.io.fits as pf\n",
    "import numpy as np\n",
    "import scipy.stats\n",
    "import matplotlib.pyplot as plt\n",
    "\n",
    "#Pedro's script\n",
    "import orbit_interp as oi\n",
    "\n",
    "#from matplotlib.backends.backend_pdf import PdfPages\n"
   ]
  },
  {
   "cell_type": "code",
   "execution_count": 12,
   "metadata": {},
   "outputs": [],
   "source": [
    "import matplotlib as mpl"
   ]
  },
  {
   "cell_type": "code",
   "execution_count": 13,
   "metadata": {},
   "outputs": [],
   "source": [
    "#plt.style.use(\"custom_pb\")"
   ]
  },
  {
   "cell_type": "code",
   "execution_count": 14,
   "metadata": {},
   "outputs": [],
   "source": [
    "#mpl.rc('lines', linewidth=1, color='black', linestyle='-')\n",
    "#mpl.rc('font', family='serif', weight='normal', size=9.0)\n",
    "#mpl.rc('text',  color='black', usetex=False)\n",
    "#mpl.rc('axes',  edgecolor='black', linewidth=1, grid=False, titlesize=10,\n",
    "#       labelsize=10, labelweight='normal', labelcolor='black')\n",
    "#mpl.rc('legend', numpoints=1, fontsize='8', shadow=False, frameon=False)\n",
    "\n",
    "\n",
    "#mpl.rc('lines', linewidth=1, color='black', linestyle='-')\n",
    "#mpl.rc('font', family='serif', weight='normal', size=9.0)\n",
    "#mpl.rc('text',  color='black', usetex=False)\n",
    "#mpl.rc('axes',  edgecolor='black', linewidth=1, grid=False, titlesize=10,\n",
    "#       labelsize=10, labelweight='normal', labelcolor='black')\n",
    "#mpl.rc('axes.formatter', limits=[-4,4])\n",
    "#mpl.rc('axes.formatter', limits=[-4,4])\n",
    "#mpl.rcParams['xtick.major.size'] = 5\n",
    "#mpl.rcParams['xtick.minor.size'] = 4\n",
    "#mpl.rcParams['xtick.major.pad'] = 8\n",
    "#mpl.rcParams['xtick.minor.pad'] = 8\n",
    "#mpl.rcParams['xtick.labelsize'] = '7.0'\n",
    "#mpl.rcParams['xtick.minor.width'] = 1.0\n",
    "#mpl.rcParams['xtick.major.width'] = 1.0\n",
    "#mpl.rcParams['ytick.major.size'] = 5\n",
    "#mpl.rcParams['ytick.minor.size'] = 4\n",
    "#mpl.rcParams['ytick.major.pad'] = 8\n",
    "#mpl.rcParams['ytick.minor.pad'] = 8\n",
    "#mpl.rcParams['ytick.labelsize'] = '7.0'\n",
    "#mpl.rcParams['ytick.minor.width'] = 1.0\n",
    "#mpl.rcParams['ytick.major.width'] = 1.0\n",
    "#mpl.rc('legend', numpoints=1, fontsize='8', shadow=False, frameon=False)"
   ]
  },
  {
   "cell_type": "code",
   "execution_count": 15,
   "metadata": {},
   "outputs": [
    {
     "data": {
      "text/plain": [
       "\"\\nColDefs(\\n    name = 'ABG'; format = '6D'; dim = '(6)'\\n    name = 'ABGINVCOV'; format = '36D'; dim = '(36)'\\n    name = 'ARC'; format = 'D'\\n    name = 'ARCCUT'; format = 'D'\\n    name = 'CHANGED'; format = 'L'\\n    name = 'CHISQ'; format = 'D'\\n    name = 'ELEMENTCOV'; format = '36D'; dim = '(36)'\\n    name = 'ELEMENTS'; format = '6D'; dim = '(6)'\\n    name = 'FPR'; format = 'D'\\n    name = 'FRAME'; format = '7D'; dim = '(7)'\\n    name = 'GROUP'; format = 'J'; null = 999999\\n    name = 'MAXOVERLAP'; format = 'J'; null = 999999\\n    name = 'NDETECT'; format = 'J'; null = 999999\\n    name = 'NUNIQUE'; format = 'J'; null = 999999\\n    name = 'OLDID'; format = 'K'; null = 999999\\n    name = 'OVERLAP'; format = 'L'\\n    name = 'XV'; format = '6D'; dim = '(6)'\\n    name = 'XVINVCOV'; format = '36D'; dim = '(36)'\\n    name = 'ORBITID'; format = 'K'; null = 999999\\n    name = 'EQUIV'; format = 'K'; null = 999999\\n    name = 'a'; format = 'D'\\n    name = 'e'; format = 'D'\\n    name = 'q'; format = 'D'\\n    name = 'Class'; format = '24A'\\n    name = 'DIST'; format = 'D'\\n    name = 'i'; format = 'D'\\n    name = 'MPC'; format = '12A'\\n    name = 'FLUX_g'; format = 'D'\\n    name = 'FLUX_r'; format = 'D'\\n    name = 'FLUX_i'; format = 'D'\\n    name = 'FLUX_z'; format = 'D'\\n    name = 'FLUX_Y'; format = 'D'\\n    name = 'm_g'; format = 'D'\\n    name = 'm_r'; format = 'D'\\n    name = 'm_i'; format = 'D'\\n    name = 'm_z'; format = 'D'\\n    name = 'm_Y'; format = 'D'\\n    name = 'FLUX_ERR_g'; format = 'D'\\n    name = 'sigma_m_g'; format = 'D'\\n    name = 'FLUX_ERR_r'; format = 'D'\\n    name = 'sigma_m_r'; format = 'D'\\n    name = 'FLUX_ERR_i'; format = 'D'\\n    name = 'sigma_m_i'; format = 'D'\\n    name = 'FLUX_ERR_z'; format = 'D'\\n    name = 'sigma_m_z'; format = 'D'\\n    name = 'FLUX_ERR_Y'; format = 'D'\\n    name = 'sigma_m_Y'; format = 'D'\\n    name = 'd'; format = 'D'\\n    name = 'H_r'; format = 'D'\\n    name = 'r'; format = 'D'\\n    name = 'H_g'; format = 'D'\\n    name = 'H_i'; format = 'D'\\n    name = 'H_z'; format = 'D'\\n    name = 'H_Y'; format = 'D'\\n    name = 'CLASS'; format = '10A'\\n    name = 'p_res'; format = 'K'; null = 999999\\n    name = 'q_res'; format = 'K'; null = 999999\\n    name = 'amp'; format = 'D'\\n    name = 'mean'; format = 'D'\\n)\\n\""
      ]
     },
     "execution_count": 15,
     "metadata": {},
     "output_type": "execute_result"
    }
   ],
   "source": [
    "file_name = \"/Users/plazas/Documents/TNO_KPO/y6_res.fits\"\n",
    "plt.rcParams.update({'figure.max_open_warning': 0})\n",
    "\n",
    "\"\"\"\n",
    "ColDefs(\n",
    "    name = 'ABG'; format = '6D'; dim = '(6)'\n",
    "    name = 'ABGINVCOV'; format = '36D'; dim = '(36)'\n",
    "    name = 'ARC'; format = 'D'\n",
    "    name = 'ARCCUT'; format = 'D'\n",
    "    name = 'CHANGED'; format = 'L'\n",
    "    name = 'CHISQ'; format = 'D'\n",
    "    name = 'ELEMENTCOV'; format = '36D'; dim = '(36)'\n",
    "    name = 'ELEMENTS'; format = '6D'; dim = '(6)'\n",
    "    name = 'FPR'; format = 'D'\n",
    "    name = 'FRAME'; format = '7D'; dim = '(7)'\n",
    "    name = 'GROUP'; format = 'J'; null = 999999\n",
    "    name = 'MAXOVERLAP'; format = 'J'; null = 999999\n",
    "    name = 'NDETECT'; format = 'J'; null = 999999\n",
    "    name = 'NUNIQUE'; format = 'J'; null = 999999\n",
    "    name = 'OLDID'; format = 'K'; null = 999999\n",
    "    name = 'OVERLAP'; format = 'L'\n",
    "    name = 'XV'; format = '6D'; dim = '(6)'\n",
    "    name = 'XVINVCOV'; format = '36D'; dim = '(36)'\n",
    "    name = 'ORBITID'; format = 'K'; null = 999999\n",
    "    name = 'EQUIV'; format = 'K'; null = 999999\n",
    "    name = 'a'; format = 'D'\n",
    "    name = 'e'; format = 'D'\n",
    "    name = 'q'; format = 'D'\n",
    "    name = 'Class'; format = '24A'\n",
    "    name = 'DIST'; format = 'D'\n",
    "    name = 'i'; format = 'D'\n",
    "    name = 'MPC'; format = '12A'\n",
    "    name = 'FLUX_g'; format = 'D'\n",
    "    name = 'FLUX_r'; format = 'D'\n",
    "    name = 'FLUX_i'; format = 'D'\n",
    "    name = 'FLUX_z'; format = 'D'\n",
    "    name = 'FLUX_Y'; format = 'D'\n",
    "    name = 'm_g'; format = 'D'\n",
    "    name = 'm_r'; format = 'D'\n",
    "    name = 'm_i'; format = 'D'\n",
    "    name = 'm_z'; format = 'D'\n",
    "    name = 'm_Y'; format = 'D'\n",
    "    name = 'FLUX_ERR_g'; format = 'D'\n",
    "    name = 'sigma_m_g'; format = 'D'\n",
    "    name = 'FLUX_ERR_r'; format = 'D'\n",
    "    name = 'sigma_m_r'; format = 'D'\n",
    "    name = 'FLUX_ERR_i'; format = 'D'\n",
    "    name = 'sigma_m_i'; format = 'D'\n",
    "    name = 'FLUX_ERR_z'; format = 'D'\n",
    "    name = 'sigma_m_z'; format = 'D'\n",
    "    name = 'FLUX_ERR_Y'; format = 'D'\n",
    "    name = 'sigma_m_Y'; format = 'D'\n",
    "    name = 'd'; format = 'D'\n",
    "    name = 'H_r'; format = 'D'\n",
    "    name = 'r'; format = 'D'\n",
    "    name = 'H_g'; format = 'D'\n",
    "    name = 'H_i'; format = 'D'\n",
    "    name = 'H_z'; format = 'D'\n",
    "    name = 'H_Y'; format = 'D'\n",
    "    name = 'CLASS'; format = '10A'\n",
    "    name = 'p_res'; format = 'K'; null = 999999\n",
    "    name = 'q_res'; format = 'K'; null = 999999\n",
    "    name = 'amp'; format = 'D'\n",
    "    name = 'mean'; format = 'D'\n",
    ")\n",
    "\"\"\"\n"
   ]
  },
  {
   "cell_type": "code",
   "execution_count": 16,
   "metadata": {},
   "outputs": [
    {
     "name": "stdout",
     "output_type": "stream",
     "text": [
      "154 53 382 225 16\n"
     ]
    }
   ],
   "source": [
    "data = pf.open(file_name)[1].data\n",
    "\n",
    "mask_detached = (data['CLASS'] == 'Detached')\n",
    "mask_scattered = (data['CLASS'] == 'Scattering')\n",
    "mask_classical = (data['CLASS'] == 'Classical')\n",
    "mask_resonant = (data['CLASS'] == 'Resonant')\n",
    "mask_extreme = (data['a'] > 150) & (data['q'] > 30)\n",
    "\n",
    "\n",
    "detached = data[mask_detached]\n",
    "scattered = data[mask_scattered]\n",
    "classical = data[mask_classical]\n",
    "resonant = data[mask_resonant]\n",
    "extreme = data[mask_extreme]\n",
    "\n",
    "\n",
    "print(len(detached), len(scattered), len(classical), len(resonant), len(extreme))"
   ]
  },
  {
   "cell_type": "code",
   "execution_count": 17,
   "metadata": {},
   "outputs": [
    {
     "data": {
      "text/plain": [
       "chararray(['Detached', 'Scattering', 'Scattering', 'Scattering',\n",
       "           'Detached', 'Detached', 'Scattering', 'Detached', 'Scattering',\n",
       "           'Scattering', 'Detached', 'Scattering', 'Scattering',\n",
       "           'Scattering', 'Detached', 'Detached'], dtype='<U10')"
      ]
     },
     "execution_count": 17,
     "metadata": {},
     "output_type": "execute_result"
    }
   ],
   "source": [
    "extreme['CLASS']"
   ]
  },
  {
   "cell_type": "code",
   "execution_count": 18,
   "metadata": {},
   "outputs": [
    {
     "data": {
      "text/plain": [
       "chararray(['2013 RC156', '2016 SD106', '2013 SL102', '2015 SO20',\n",
       "           '2003 SS422', '2013 RA109', '2016 SG58', '2016 QV89',\n",
       "           '2015 BP519', '2016 QU89', '2016 SA59', '2014 SX403',\n",
       "           '2014 TS115', '2014 TU115', '2015 UN105', '2014 WB556'],\n",
       "          dtype='<U12')"
      ]
     },
     "execution_count": 18,
     "metadata": {},
     "output_type": "execute_result"
    }
   ],
   "source": [
    "extreme['MPC']"
   ]
  },
  {
   "cell_type": "code",
   "execution_count": 19,
   "metadata": {},
   "outputs": [],
   "source": [
    "a = oi.QueryHorizons(59344, 59345, '@hst')\n",
    "\n",
    "#for object in extreme['MPC']:\n",
    "t = a.queryObjects(['2013 RC156'])"
   ]
  },
  {
   "cell_type": "code",
   "execution_count": 20,
   "metadata": {},
   "outputs": [
    {
     "name": "stdout",
     "output_type": "stream",
     "text": [
      " targetname \n",
      "    ---     \n",
      "------------\n",
      "(2013 RC156)\n"
     ]
    },
    {
     "ename": "IndexError",
     "evalue": "arrays used as indices must be of integer (or boolean) type",
     "output_type": "error",
     "traceback": [
      "\u001b[0;31m---------------------------------------------------------------------------\u001b[0m",
      "\u001b[0;31mIndexError\u001b[0m                                Traceback (most recent call last)",
      "\u001b[0;32m<ipython-input-20-155a63e4634d>\u001b[0m in \u001b[0;36m<module>\u001b[0;34m\u001b[0m\n\u001b[1;32m      1\u001b[0m \u001b[0mmask\u001b[0m \u001b[0;34m=\u001b[0m \u001b[0mnp\u001b[0m\u001b[0;34m.\u001b[0m\u001b[0munique\u001b[0m\u001b[0;34m(\u001b[0m\u001b[0mt\u001b[0m\u001b[0;34m[\u001b[0m\u001b[0;34m'targetname'\u001b[0m\u001b[0;34m]\u001b[0m\u001b[0;34m)\u001b[0m\u001b[0;34m\u001b[0m\u001b[0;34m\u001b[0m\u001b[0m\n\u001b[1;32m      2\u001b[0m \u001b[0mprint\u001b[0m \u001b[0;34m(\u001b[0m\u001b[0mmask\u001b[0m\u001b[0;34m)\u001b[0m\u001b[0;34m\u001b[0m\u001b[0;34m\u001b[0m\u001b[0m\n\u001b[0;32m----> 3\u001b[0;31m \u001b[0mt\u001b[0m\u001b[0;34m[\u001b[0m\u001b[0mmask\u001b[0m\u001b[0;34m]\u001b[0m\u001b[0;34m\u001b[0m\u001b[0;34m\u001b[0m\u001b[0m\n\u001b[0m",
      "\u001b[0;32m/anaconda3/lib/python3.7/site-packages/astropy/table/table.py\u001b[0m in \u001b[0;36m__getitem__\u001b[0;34m(self, item)\u001b[0m\n\u001b[1;32m   1889\u001b[0m             \u001b[0;31m# is produced by np.where, as in t[np.where(t['a'] > 2)]\u001b[0m\u001b[0;34m\u001b[0m\u001b[0;34m\u001b[0m\u001b[0;34m\u001b[0m\u001b[0m\n\u001b[1;32m   1890\u001b[0m             \u001b[0;31m# For all, a new table is constructed with slice of all columns\u001b[0m\u001b[0;34m\u001b[0m\u001b[0;34m\u001b[0m\u001b[0;34m\u001b[0m\u001b[0m\n\u001b[0;32m-> 1891\u001b[0;31m             \u001b[0;32mreturn\u001b[0m \u001b[0mself\u001b[0m\u001b[0;34m.\u001b[0m\u001b[0m_new_from_slice\u001b[0m\u001b[0;34m(\u001b[0m\u001b[0mitem\u001b[0m\u001b[0;34m)\u001b[0m\u001b[0;34m\u001b[0m\u001b[0;34m\u001b[0m\u001b[0m\n\u001b[0m\u001b[1;32m   1892\u001b[0m         \u001b[0;32melse\u001b[0m\u001b[0;34m:\u001b[0m\u001b[0;34m\u001b[0m\u001b[0;34m\u001b[0m\u001b[0m\n\u001b[1;32m   1893\u001b[0m             \u001b[0;32mraise\u001b[0m \u001b[0mValueError\u001b[0m\u001b[0;34m(\u001b[0m\u001b[0;34mf'Illegal type {type(item)} for table item access'\u001b[0m\u001b[0;34m)\u001b[0m\u001b[0;34m\u001b[0m\u001b[0;34m\u001b[0m\u001b[0m\n",
      "\u001b[0;32m/anaconda3/lib/python3.7/site-packages/astropy/table/table.py\u001b[0m in \u001b[0;36m_new_from_slice\u001b[0;34m(self, slice_)\u001b[0m\n\u001b[1;32m   1405\u001b[0m         \u001b[0mnewcols\u001b[0m \u001b[0;34m=\u001b[0m \u001b[0;34m[\u001b[0m\u001b[0;34m]\u001b[0m\u001b[0;34m\u001b[0m\u001b[0;34m\u001b[0m\u001b[0m\n\u001b[1;32m   1406\u001b[0m         \u001b[0;32mfor\u001b[0m \u001b[0mcol\u001b[0m \u001b[0;32min\u001b[0m \u001b[0mself\u001b[0m\u001b[0;34m.\u001b[0m\u001b[0mcolumns\u001b[0m\u001b[0;34m.\u001b[0m\u001b[0mvalues\u001b[0m\u001b[0;34m(\u001b[0m\u001b[0;34m)\u001b[0m\u001b[0;34m:\u001b[0m\u001b[0;34m\u001b[0m\u001b[0;34m\u001b[0m\u001b[0m\n\u001b[0;32m-> 1407\u001b[0;31m             \u001b[0mnewcol\u001b[0m \u001b[0;34m=\u001b[0m \u001b[0mcol\u001b[0m\u001b[0;34m[\u001b[0m\u001b[0mslice_\u001b[0m\u001b[0;34m]\u001b[0m\u001b[0;34m\u001b[0m\u001b[0;34m\u001b[0m\u001b[0m\n\u001b[0m\u001b[1;32m   1408\u001b[0m \u001b[0;34m\u001b[0m\u001b[0m\n\u001b[1;32m   1409\u001b[0m             \u001b[0;31m# Note in line below, use direct attribute access to col.indices for Column\u001b[0m\u001b[0;34m\u001b[0m\u001b[0;34m\u001b[0m\u001b[0;34m\u001b[0m\u001b[0m\n",
      "\u001b[0;32mastropy/table/_column_mixins.pyx\u001b[0m in \u001b[0;36mastropy.table._column_mixins._MaskedColumnGetitemShim.__getitem__\u001b[0;34m()\u001b[0m\n",
      "\u001b[0;32mastropy/table/_column_mixins.pyx\u001b[0m in \u001b[0;36mastropy.table._column_mixins.base_getitem\u001b[0;34m()\u001b[0m\n",
      "\u001b[0;32mastropy/table/_column_mixins.pyx\u001b[0m in \u001b[0;36mastropy.table._column_mixins.masked_column_getitem\u001b[0;34m()\u001b[0m\n",
      "\u001b[0;32m/anaconda3/lib/python3.7/site-packages/numpy/ma/core.py\u001b[0m in \u001b[0;36m__getitem__\u001b[0;34m(self, indx)\u001b[0m\n\u001b[1;32m   3222\u001b[0m         \u001b[0;31m# mask of being reshaped if it hasn't been set up properly yet\u001b[0m\u001b[0;34m\u001b[0m\u001b[0;34m\u001b[0m\u001b[0;34m\u001b[0m\u001b[0m\n\u001b[1;32m   3223\u001b[0m         \u001b[0;31m# So it's easier to stick to the current version\u001b[0m\u001b[0;34m\u001b[0m\u001b[0;34m\u001b[0m\u001b[0;34m\u001b[0m\u001b[0m\n\u001b[0;32m-> 3224\u001b[0;31m         \u001b[0mdout\u001b[0m \u001b[0;34m=\u001b[0m \u001b[0mself\u001b[0m\u001b[0;34m.\u001b[0m\u001b[0mdata\u001b[0m\u001b[0;34m[\u001b[0m\u001b[0mindx\u001b[0m\u001b[0;34m]\u001b[0m\u001b[0;34m\u001b[0m\u001b[0;34m\u001b[0m\u001b[0m\n\u001b[0m\u001b[1;32m   3225\u001b[0m         \u001b[0m_mask\u001b[0m \u001b[0;34m=\u001b[0m \u001b[0mself\u001b[0m\u001b[0;34m.\u001b[0m\u001b[0m_mask\u001b[0m\u001b[0;34m\u001b[0m\u001b[0;34m\u001b[0m\u001b[0m\n\u001b[1;32m   3226\u001b[0m \u001b[0;34m\u001b[0m\u001b[0m\n",
      "\u001b[0;32m/anaconda3/lib/python3.7/site-packages/numpy/ma/core.py\u001b[0m in \u001b[0;36m__getitem__\u001b[0;34m(self, indx)\u001b[0m\n\u001b[1;32m   3222\u001b[0m         \u001b[0;31m# mask of being reshaped if it hasn't been set up properly yet\u001b[0m\u001b[0;34m\u001b[0m\u001b[0;34m\u001b[0m\u001b[0;34m\u001b[0m\u001b[0m\n\u001b[1;32m   3223\u001b[0m         \u001b[0;31m# So it's easier to stick to the current version\u001b[0m\u001b[0;34m\u001b[0m\u001b[0;34m\u001b[0m\u001b[0;34m\u001b[0m\u001b[0m\n\u001b[0;32m-> 3224\u001b[0;31m         \u001b[0mdout\u001b[0m \u001b[0;34m=\u001b[0m \u001b[0mself\u001b[0m\u001b[0;34m.\u001b[0m\u001b[0mdata\u001b[0m\u001b[0;34m[\u001b[0m\u001b[0mindx\u001b[0m\u001b[0;34m]\u001b[0m\u001b[0;34m\u001b[0m\u001b[0;34m\u001b[0m\u001b[0m\n\u001b[0m\u001b[1;32m   3225\u001b[0m         \u001b[0m_mask\u001b[0m \u001b[0;34m=\u001b[0m \u001b[0mself\u001b[0m\u001b[0;34m.\u001b[0m\u001b[0m_mask\u001b[0m\u001b[0;34m\u001b[0m\u001b[0;34m\u001b[0m\u001b[0m\n\u001b[1;32m   3226\u001b[0m \u001b[0;34m\u001b[0m\u001b[0m\n",
      "\u001b[0;31mIndexError\u001b[0m: arrays used as indices must be of integer (or boolean) type"
     ]
    }
   ],
   "source": [
    "mask = np.unique(t['targetname'])\n",
    "print (mask)\n",
    "t[mask]"
   ]
  },
  {
   "cell_type": "code",
   "execution_count": 21,
   "metadata": {},
   "outputs": [
    {
     "ename": "ValueError",
     "evalue": "Query failed without known error message; received the following response:\nAPI VERSION: 1.1\nAPI SOURCE: NASA/JPL Horizons API\n\n*******************************************************************************\nJPL/HORIZONS                    (2013 RC156)               2022-Mar-24 07:55:49\nRec #:50225541 (+COV) Soln.date: 2021-Sep-10_14:12:03     # obs: 14 (2013-2018)\n \nIAU76/J2000 helio. ecliptic osc. elements (au, days, deg., period=Julian yrs):\n \n  EPOCH=  2457684.5 ! 2016-Oct-23.00 (TDB)         Residual RMS= .12847\n   EC= .7851457313584718   QR= 37.4532095768527    TP= 2460266.7580861612\n   OM= 349.0835956545358   W=  319.5696431054324   IN= 35.02872600005118\n   A= 174.3191318173957    MA= 358.8941756760386   ADIST= 311.1850540579386\n   PER= 2301.57852         N= .000428239           ANGMOM= .140657469\n   DAN= 41.84864           DDN= 166.17189          L= 314.1817946\n   B= -21.8540716          MOID= 36.51330185       TP= 2023-Nov-18.2580861612\n \nAsteroid physical parameters (km, seconds, rotational period in hours):\n   GM= n.a.                RAD= n.a.               ROTPER= n.a.\n   H= 7.55                 G= .150                 B-V= n.a.\n                           ALBEDO= n.a.            STYP= n.a.\n \nASTEROID comments: \n1: soln ref.= JPL#1, OCC=4\n2: source=ORB\n*******************************************************************************\n\nNo ephemeris for center \"Hubble Space Telescope\" after A.D. 2022-JUN-02 04:38:41.9380 UT\n",
     "output_type": "error",
     "traceback": [
      "\u001b[0;31m---------------------------------------------------------------------------\u001b[0m",
      "\u001b[0;31mValueError\u001b[0m                                Traceback (most recent call last)",
      "\u001b[0;32m<ipython-input-21-edf885cf8c4e>\u001b[0m in \u001b[0;36m<module>\u001b[0;34m\u001b[0m\n\u001b[1;32m      2\u001b[0m \u001b[0;34m\u001b[0m\u001b[0m\n\u001b[1;32m      3\u001b[0m \u001b[0;31m#for object in extreme['MPC']:\u001b[0m\u001b[0;34m\u001b[0m\u001b[0;34m\u001b[0m\u001b[0;34m\u001b[0m\u001b[0m\n\u001b[0;32m----> 4\u001b[0;31m \u001b[0ma\u001b[0m\u001b[0;34m.\u001b[0m\u001b[0mqueryObjects\u001b[0m\u001b[0;34m(\u001b[0m\u001b[0;34m[\u001b[0m\u001b[0;34m'2013 RC156'\u001b[0m\u001b[0;34m]\u001b[0m\u001b[0;34m)\u001b[0m\u001b[0;34m\u001b[0m\u001b[0;34m\u001b[0m\u001b[0m\n\u001b[0m",
      "\u001b[0;32m~/Documents/TNO_KPO/tnos_and_knos/orbit_interp.py\u001b[0m in \u001b[0;36mqueryObjects\u001b[0;34m(self, objects)\u001b[0m\n\u001b[1;32m    100\u001b[0m \t\t\t\t\tepochs = {'start' : self.time_start, 'stop' : self.time_end, 'step' : self.step})\n\u001b[1;32m    101\u001b[0m \u001b[0;34m\u001b[0m\u001b[0m\n\u001b[0;32m--> 102\u001b[0;31m                         \u001b[0meph\u001b[0m \u001b[0;34m=\u001b[0m \u001b[0mquery\u001b[0m\u001b[0;34m.\u001b[0m\u001b[0mephemerides\u001b[0m\u001b[0;34m(\u001b[0m\u001b[0;34m)\u001b[0m\u001b[0;34m\u001b[0m\u001b[0;34m\u001b[0m\u001b[0m\n\u001b[0m\u001b[1;32m    103\u001b[0m \u001b[0;34m\u001b[0m\u001b[0m\n\u001b[1;32m    104\u001b[0m                         \u001b[0mself\u001b[0m\u001b[0;34m.\u001b[0m\u001b[0mtable\u001b[0m\u001b[0;34m.\u001b[0m\u001b[0mappend\u001b[0m\u001b[0;34m(\u001b[0m\u001b[0meph\u001b[0m\u001b[0;34m[\u001b[0m\u001b[0;34m'RA'\u001b[0m\u001b[0;34m,\u001b[0m \u001b[0;34m'DEC'\u001b[0m\u001b[0;34m,\u001b[0m \u001b[0;34m'datetime_jd'\u001b[0m\u001b[0;34m,\u001b[0m \u001b[0;34m'targetname'\u001b[0m\u001b[0;34m,\u001b[0m \u001b[0;34m'delta'\u001b[0m\u001b[0;34m,\u001b[0m \u001b[0;34m'r'\u001b[0m\u001b[0;34m]\u001b[0m\u001b[0;34m)\u001b[0m\u001b[0;34m\u001b[0m\u001b[0;34m\u001b[0m\u001b[0m\n",
      "\u001b[0;32m/anaconda3/lib/python3.7/site-packages/astroquery/utils/class_or_instance.py\u001b[0m in \u001b[0;36mf\u001b[0;34m(*args, **kwds)\u001b[0m\n\u001b[1;32m     23\u001b[0m         \u001b[0;32mdef\u001b[0m \u001b[0mf\u001b[0m\u001b[0;34m(\u001b[0m\u001b[0;34m*\u001b[0m\u001b[0margs\u001b[0m\u001b[0;34m,\u001b[0m \u001b[0;34m**\u001b[0m\u001b[0mkwds\u001b[0m\u001b[0;34m)\u001b[0m\u001b[0;34m:\u001b[0m\u001b[0;34m\u001b[0m\u001b[0;34m\u001b[0m\u001b[0m\n\u001b[1;32m     24\u001b[0m             \u001b[0;32mif\u001b[0m \u001b[0mobj\u001b[0m \u001b[0;32mis\u001b[0m \u001b[0;32mnot\u001b[0m \u001b[0;32mNone\u001b[0m\u001b[0;34m:\u001b[0m\u001b[0;34m\u001b[0m\u001b[0;34m\u001b[0m\u001b[0m\n\u001b[0;32m---> 25\u001b[0;31m                 \u001b[0;32mreturn\u001b[0m \u001b[0mself\u001b[0m\u001b[0;34m.\u001b[0m\u001b[0mfn\u001b[0m\u001b[0;34m(\u001b[0m\u001b[0mobj\u001b[0m\u001b[0;34m,\u001b[0m \u001b[0;34m*\u001b[0m\u001b[0margs\u001b[0m\u001b[0;34m,\u001b[0m \u001b[0;34m**\u001b[0m\u001b[0mkwds\u001b[0m\u001b[0;34m)\u001b[0m\u001b[0;34m\u001b[0m\u001b[0;34m\u001b[0m\u001b[0m\n\u001b[0m\u001b[1;32m     26\u001b[0m             \u001b[0;32melse\u001b[0m\u001b[0;34m:\u001b[0m\u001b[0;34m\u001b[0m\u001b[0;34m\u001b[0m\u001b[0m\n\u001b[1;32m     27\u001b[0m                 \u001b[0;32mreturn\u001b[0m \u001b[0mself\u001b[0m\u001b[0;34m.\u001b[0m\u001b[0mfn\u001b[0m\u001b[0;34m(\u001b[0m\u001b[0mcls\u001b[0m\u001b[0;34m,\u001b[0m \u001b[0;34m*\u001b[0m\u001b[0margs\u001b[0m\u001b[0;34m,\u001b[0m \u001b[0;34m**\u001b[0m\u001b[0mkwds\u001b[0m\u001b[0;34m)\u001b[0m\u001b[0;34m\u001b[0m\u001b[0;34m\u001b[0m\u001b[0m\n",
      "\u001b[0;32m/anaconda3/lib/python3.7/site-packages/astroquery/utils/process_asyncs.py\u001b[0m in \u001b[0;36mnewmethod\u001b[0;34m(self, *args, **kwargs)\u001b[0m\n\u001b[1;32m     27\u001b[0m             \u001b[0;32mif\u001b[0m \u001b[0mkwargs\u001b[0m\u001b[0;34m.\u001b[0m\u001b[0mget\u001b[0m\u001b[0;34m(\u001b[0m\u001b[0;34m'get_query_payload'\u001b[0m\u001b[0;34m)\u001b[0m \u001b[0;32mor\u001b[0m \u001b[0mkwargs\u001b[0m\u001b[0;34m.\u001b[0m\u001b[0mget\u001b[0m\u001b[0;34m(\u001b[0m\u001b[0;34m'field_help'\u001b[0m\u001b[0;34m)\u001b[0m\u001b[0;34m:\u001b[0m\u001b[0;34m\u001b[0m\u001b[0;34m\u001b[0m\u001b[0m\n\u001b[1;32m     28\u001b[0m                 \u001b[0;32mreturn\u001b[0m \u001b[0mresponse\u001b[0m\u001b[0;34m\u001b[0m\u001b[0;34m\u001b[0m\u001b[0m\n\u001b[0;32m---> 29\u001b[0;31m             \u001b[0mresult\u001b[0m \u001b[0;34m=\u001b[0m \u001b[0mself\u001b[0m\u001b[0;34m.\u001b[0m\u001b[0m_parse_result\u001b[0m\u001b[0;34m(\u001b[0m\u001b[0mresponse\u001b[0m\u001b[0;34m,\u001b[0m \u001b[0mverbose\u001b[0m\u001b[0;34m=\u001b[0m\u001b[0mverbose\u001b[0m\u001b[0;34m)\u001b[0m\u001b[0;34m\u001b[0m\u001b[0;34m\u001b[0m\u001b[0m\n\u001b[0m\u001b[1;32m     30\u001b[0m             \u001b[0mself\u001b[0m\u001b[0;34m.\u001b[0m\u001b[0mtable\u001b[0m \u001b[0;34m=\u001b[0m \u001b[0mresult\u001b[0m\u001b[0;34m\u001b[0m\u001b[0;34m\u001b[0m\u001b[0m\n\u001b[1;32m     31\u001b[0m             \u001b[0;32mreturn\u001b[0m \u001b[0mresult\u001b[0m\u001b[0;34m\u001b[0m\u001b[0;34m\u001b[0m\u001b[0m\n",
      "\u001b[0;32m/anaconda3/lib/python3.7/site-packages/astroquery/jplhorizons/core.py\u001b[0m in \u001b[0;36m_parse_result\u001b[0;34m(self, response, verbose)\u001b[0m\n\u001b[1;32m   1293\u001b[0m         \u001b[0;32melse\u001b[0m\u001b[0;34m:\u001b[0m\u001b[0;34m\u001b[0m\u001b[0;34m\u001b[0m\u001b[0m\n\u001b[1;32m   1294\u001b[0m             \u001b[0;32mtry\u001b[0m\u001b[0;34m:\u001b[0m\u001b[0;34m\u001b[0m\u001b[0;34m\u001b[0m\u001b[0m\n\u001b[0;32m-> 1295\u001b[0;31m                 \u001b[0mdata\u001b[0m \u001b[0;34m=\u001b[0m \u001b[0mself\u001b[0m\u001b[0;34m.\u001b[0m\u001b[0m_parse_horizons\u001b[0m\u001b[0;34m(\u001b[0m\u001b[0mresponse\u001b[0m\u001b[0;34m.\u001b[0m\u001b[0mtext\u001b[0m\u001b[0;34m)\u001b[0m\u001b[0;34m\u001b[0m\u001b[0;34m\u001b[0m\u001b[0m\n\u001b[0m\u001b[1;32m   1296\u001b[0m             \u001b[0;32mexcept\u001b[0m \u001b[0mException\u001b[0m \u001b[0;32mas\u001b[0m \u001b[0mex\u001b[0m\u001b[0;34m:\u001b[0m\u001b[0;34m\u001b[0m\u001b[0;34m\u001b[0m\u001b[0m\n\u001b[1;32m   1297\u001b[0m                 \u001b[0;32mtry\u001b[0m\u001b[0;34m:\u001b[0m\u001b[0;34m\u001b[0m\u001b[0;34m\u001b[0m\u001b[0m\n",
      "\u001b[0;32m/anaconda3/lib/python3.7/site-packages/astroquery/jplhorizons/core.py\u001b[0m in \u001b[0;36m_parse_horizons\u001b[0;34m(self, src)\u001b[0m\n\u001b[1;32m   1185\u001b[0m                 raise ValueError(('Query failed without known error message; '\n\u001b[1;32m   1186\u001b[0m                                   \u001b[0;34m'received the following response:\\n'\u001b[0m\u001b[0;34m\u001b[0m\u001b[0;34m\u001b[0m\u001b[0m\n\u001b[0;32m-> 1187\u001b[0;31m                                   '{}').format(self.raw_response))\n\u001b[0m\u001b[1;32m   1188\u001b[0m         \u001b[0;31m# strip whitespaces from column labels\u001b[0m\u001b[0;34m\u001b[0m\u001b[0;34m\u001b[0m\u001b[0;34m\u001b[0m\u001b[0m\n\u001b[1;32m   1189\u001b[0m         \u001b[0mheaderline\u001b[0m \u001b[0;34m=\u001b[0m \u001b[0;34m[\u001b[0m\u001b[0mh\u001b[0m\u001b[0;34m.\u001b[0m\u001b[0mstrip\u001b[0m\u001b[0;34m(\u001b[0m\u001b[0;34m)\u001b[0m \u001b[0;32mfor\u001b[0m \u001b[0mh\u001b[0m \u001b[0;32min\u001b[0m \u001b[0mheaderline\u001b[0m\u001b[0;34m]\u001b[0m\u001b[0;34m\u001b[0m\u001b[0;34m\u001b[0m\u001b[0m\n",
      "\u001b[0;31mValueError\u001b[0m: Query failed without known error message; received the following response:\nAPI VERSION: 1.1\nAPI SOURCE: NASA/JPL Horizons API\n\n*******************************************************************************\nJPL/HORIZONS                    (2013 RC156)               2022-Mar-24 07:55:49\nRec #:50225541 (+COV) Soln.date: 2021-Sep-10_14:12:03     # obs: 14 (2013-2018)\n \nIAU76/J2000 helio. ecliptic osc. elements (au, days, deg., period=Julian yrs):\n \n  EPOCH=  2457684.5 ! 2016-Oct-23.00 (TDB)         Residual RMS= .12847\n   EC= .7851457313584718   QR= 37.4532095768527    TP= 2460266.7580861612\n   OM= 349.0835956545358   W=  319.5696431054324   IN= 35.02872600005118\n   A= 174.3191318173957    MA= 358.8941756760386   ADIST= 311.1850540579386\n   PER= 2301.57852         N= .000428239           ANGMOM= .140657469\n   DAN= 41.84864           DDN= 166.17189          L= 314.1817946\n   B= -21.8540716          MOID= 36.51330185       TP= 2023-Nov-18.2580861612\n \nAsteroid physical parameters (km, seconds, rotational period in hours):\n   GM= n.a.                RAD= n.a.               ROTPER= n.a.\n   H= 7.55                 G= .150                 B-V= n.a.\n                           ALBEDO= n.a.            STYP= n.a.\n \nASTEROID comments: \n1: soln ref.= JPL#1, OCC=4\n2: source=ORB\n*******************************************************************************\n\nNo ephemeris for center \"Hubble Space Telescope\" after A.D. 2022-JUN-02 04:38:41.9380 UT\n"
     ]
    }
   ],
   "source": [
    "a = oi.QueryHorizons(59900, 59901, '@hst')\n",
    "\n",
    "#for object in extreme['MPC']:\n",
    "a.queryObjects(['2013 RC156'])"
   ]
  },
  {
   "cell_type": "code",
   "execution_count": 22,
   "metadata": {},
   "outputs": [],
   "source": [
    "# unkwnon\n",
    "gi_detached = detached['m_g'] - detached['m_i']\n",
    "\n",
    "# Parent\n",
    "gi_classical = classical['m_g'] - classical['m_i']\n",
    "gi_scattered = scattered['m_g'] - scattered['m_i']"
   ]
  },
  {
   "cell_type": "code",
   "execution_count": 23,
   "metadata": {},
   "outputs": [
    {
     "data": {
      "text/plain": [
       "Text(0.5, 1.0, 'g-i scattered (53)')"
      ]
     },
     "execution_count": 23,
     "metadata": {},
     "output_type": "execute_result"
    },
    {
     "data": {
      "image/png": "[encoded data removed]",
      "text/plain": [
       "<Figure size 432x288 with 1 Axes>"
      ]
     },
     "metadata": {
      "needs_background": "light"
     },
     "output_type": "display_data"
    },
    {
     "data": {
      "image/png": "[encoded data removed]",
      "text/plain": [
       "<Figure size 432x288 with 1 Axes>"
      ]
     },
     "metadata": {
      "needs_background": "light"
     },
     "output_type": "display_data"
    },
    {
     "data": {
      "image/png": "[encoded data removed]",
      "text/plain": [
       "<Figure size 432x288 with 1 Axes>"
      ]
     },
     "metadata": {
      "needs_background": "light"
     },
     "output_type": "display_data"
    }
   ],
   "source": [
    "mean_gi_det = np.mean(gi_detached)\n",
    "median_gi_det = np.median(gi_detached)\n",
    "std_gi_det = np.std(gi_detached)\n",
    "\n",
    "fig = plt.figure()\n",
    "_ = plt.hist(gi_detached, bins='auto', density=True, label=f\"mean: {mean_gi_det:.2f} \\n median: {median_gi_det:.2f} \\n std: {std_gi_det:.2f}\")\n",
    "plt.legend()\n",
    "plt.title(f\"g-i detached ({len(detached)})\")\n",
    "#pp.savefig(fig)\n",
    "\n",
    "\n",
    "mean_gi_cla = np.mean(gi_classical)\n",
    "median_gi_cla = np.median(gi_classical)\n",
    "std_gi_cla = np.std(gi_classical)\n",
    "\n",
    "fig = plt.figure()\n",
    "_ = plt.hist(gi_classical, bins='auto', density=True, label=f\"mean: {mean_gi_cla:.2f} \\n median: {median_gi_cla:.2f} \\n std: {std_gi_cla:.2f}\")\n",
    "plt.legend()\n",
    "plt.title(f\"g-i classical ({len(classical)})\")\n",
    "#pp.savefig(fig)\n",
    "\n",
    "mean_gi_sca = np.mean(gi_scattered)\n",
    "median_gi_sca = np.median(gi_scattered)\n",
    "std_gi_sca = np.std(gi_scattered)\n",
    "\n",
    "\n",
    "fig = plt.figure()\n",
    "_ = plt.hist(gi_scattered, bins='auto', density=True, label=f\"mean: {mean_gi_sca:.2f} \\n median: {median_gi_sca:.2f} \\n std: {std_gi_sca:.2f}\")\n",
    "plt.legend()\n",
    "plt.title(f\"g-i scattered ({len(scattered)})\")\n",
    "#pp.savefig(fig)\n"
   ]
  },
  {
   "cell_type": "code",
   "execution_count": 24,
   "metadata": {},
   "outputs": [],
   "source": [
    "# Define probabilities of parent populations\n",
    "\n",
    "#Classical\n",
    "hist1 = np.histogram(gi_classical, bins='auto', density=True)\n",
    "hist_dist1 = scipy.stats.rv_histogram(hist1)\n",
    "\n",
    "#scattered\n",
    "hist2 = np.histogram(gi_scattered, bins='auto', density=True)\n",
    "hist_dist2 = scipy.stats.rv_histogram(hist2)\n"
   ]
  },
  {
   "cell_type": "code",
   "execution_count": 25,
   "metadata": {},
   "outputs": [],
   "source": [
    "# Likehood ratio of parent populations\n",
    "def ratio_parent_populations(samples):\n",
    "    # ratio of two probability distributions defined above\n",
    "    r = hist_dist1.pdf(samples)/hist_dist2.pdf(samples)\n",
    "    # Some 'inf' result from above...\n",
    "    mask = np.isinf(r)\n",
    "    return r[~mask]"
   ]
  },
  {
   "cell_type": "code",
   "execution_count": 26,
   "metadata": {},
   "outputs": [
    {
     "name": "stdout",
     "output_type": "stream",
     "text": [
      "5\n"
     ]
    },
    {
     "name": "stderr",
     "output_type": "stream",
     "text": [
      "/anaconda3/lib/python3.7/site-packages/ipykernel_launcher.py:4: RuntimeWarning: divide by zero encountered in true_divide\n",
      "  after removing the cwd from sys.path.\n"
     ]
    },
    {
     "name": "stdout",
     "output_type": "stream",
     "text": [
      "d1:  2.110753669082238 1.0556551258872888 3.1465142171364406\n",
      "d2:  0.4582877342069125 0.19931397554083838 0.9151020421021092\n",
      "d1, 5 0.13970001880445\n",
      "d2, 95 1.6724657147604556\n",
      "6\n",
      "d1:  2.437953634701006 1.080990848908582 4.183842770722305\n",
      "d2:  0.41079402710627394 0.14870166167237756 0.9852625669725563\n",
      "d1, 5 0.12227555521329812\n",
      "d2, 95 1.522337865795511\n",
      "7\n",
      "d1:  2.8002341303749145 1.0978207674081757 5.353424722352308\n",
      "d2:  0.35424782603807725 0.10743488527247688 1.0534967385406664\n",
      "d1, 5 0.09726023783443949\n",
      "d2, 95 1.3672264522623032\n",
      "8\n",
      "d1:  3.3327989832100333 1.1539345002221082 7.9414303848835965\n",
      "d2:  0.29132360587931155 0.07977082905690239 0.9771960453922185\n",
      "d1, 5 0.08816124939400397\n",
      "d2, 95 1.1702998487659437\n",
      "9\n",
      "d1:  3.7171566351804533 1.1143998049104882 8.88020279100735\n",
      "d2:  0.25250771370100294 0.05782915793495577 0.830006767710741\n",
      "d1, 5 0.0790755391811269\n",
      "d2, 95 1.0379838069191853\n",
      "10\n",
      "d1:  4.622702856197419 1.1360142144791396 14.09214711189333\n",
      "d2:  0.20594071617392345 0.041520163716926795 0.7855323832985255\n",
      "d1, 5 0.06859353107037765\n",
      "d2, 95 0.8338345791349095\n",
      "11\n",
      "d1:  5.0968746926711015 1.1309582295914176 14.389707824018881\n",
      "d2:  0.186426922009944 0.031054812948145823 0.8711152154979388\n",
      "d1, 5 0.058263558255383464\n",
      "d2, 95 0.6837036503577331\n",
      "12\n",
      "d1:  6.3742223230143775 1.169085890653161 23.637665454776233\n",
      "d2:  0.150297572914381 0.022029216694894636 0.6994501777898559\n",
      "d1, 5 0.0546804779013808\n",
      "d2, 95 0.558364383192467\n",
      "13\n",
      "d1:  7.118085103983823 1.1953964650957425 28.48502780486403\n",
      "d2:  0.13677516765708267 0.01655333900805981 0.7154795435559865\n",
      "d1, 5 0.04723845640742691\n",
      "d2, 95 0.4812044157074565\n",
      "14\n",
      "d1:  8.497576794210916 1.1677270244122355 45.6536867700356\n",
      "d2:  0.10888222738422032 0.011894450898145337 0.5947107460993664\n",
      "d1, 5 0.041737419939226375\n",
      "d2, 95 0.38946181113104733\n",
      "15\n",
      "d1:  9.517742274353381 1.2222346316788006 43.45897633811902\n",
      "d2:  0.09556742839460794 0.008954638291985367 0.7503443344263108\n",
      "d1, 5 0.03865266228815076\n",
      "d2, 95 0.33581371795220505\n",
      "16\n",
      "d1:  10.530209051373333 1.175312286046318 49.23509126495943\n",
      "d2:  0.09730986988545379 0.006397834398994077 0.8940153869882628\n",
      "d1, 5 0.03417902625625782\n",
      "d2, 95 0.27080087419866505\n",
      "17\n",
      "d1:  13.046817254750948 1.2102620733559637 76.91169057978665\n",
      "d2:  0.07668824454010542 0.004484606759760127 0.6546170045591277\n",
      "d1, 5 0.0314779269414397\n",
      "d2, 95 0.20690532035970824\n",
      "18\n",
      "d1:  13.221200816200094 1.3066632664782223 63.91232235782324\n",
      "d2:  0.05641185040201293 0.0034366763332706286 0.48699862252099124\n",
      "d1, 5 0.03221835621643337\n",
      "d2, 95 0.16975201880083007\n",
      "19\n",
      "d1:  17.42865136041128 1.3349859942136795 115.31193967269927\n",
      "d2:  0.05735361025071602 0.0024909279379178727 0.6494831838902991\n",
      "d1, 5 0.026292515893413\n",
      "d2, 95 0.13712606336098415\n",
      "20\n",
      "d1:  19.23828746391555 1.217652349039955 273.5015678346686\n",
      "d2:  0.052789190607049466 0.0018424596893499106 0.9746946271313547\n",
      "d1, 5 0.023248220225262153\n",
      "d2, 95 0.1169518821225811\n",
      "21\n",
      "d1:  19.916144449154295 1.3082507283513274 108.15017706774498\n",
      "d2:  0.03568087454492266 0.0013491099201822323 0.36781181267712704\n",
      "d1, 5 0.02357392435150968\n",
      "d2, 95 0.09713236384541986\n",
      "22\n",
      "d1:  24.382810812192666 1.3255843266686758 189.8827496448172\n",
      "d2:  0.03507929229866614 0.00092714434892457 0.5277300109740981\n",
      "d1, 5 0.022047454315711135\n",
      "d2, 95 0.08062920526476428\n",
      "23\n",
      "d1:  26.138656501981632 1.3254639540924265 187.33027028217901\n",
      "d2:  0.025667090781137575 0.0006528669548776247 0.3945378349718659\n",
      "d1, 5 0.018949151371850673\n",
      "d2, 95 0.05854069623831144\n",
      "24\n",
      "d1:  34.47084668754974 1.3083910194667974 273.84776383163387\n",
      "d2:  0.024344519019387074 0.0005085386480994036 0.3329611526017199\n",
      "d1, 5 0.01707105116186053\n",
      "d2, 95 0.0455652617901441\n",
      "25\n",
      "d1:  40.0948915426966 1.314201531297769 374.24167801489034\n",
      "d2:  0.020081932566174687 0.00036104331022749974 0.5225326417035268\n",
      "d1, 5 0.016893443063040726\n",
      "d2, 95 0.03684555565741488\n",
      "26\n",
      "d1:  45.14523876547735 1.4346183539642667 423.73956868380463\n",
      "d2:  0.023624894410769422 0.0002564319741427788 0.6439897218607445\n",
      "d1, 5 0.015014374373089074\n",
      "d2, 95 0.029377741011264516\n",
      "27\n",
      "d1:  58.508204259703064 1.4609999917762333 656.879041790652\n",
      "d2:  0.010183880293394417 0.00020515976001134705 0.10541288815504155\n",
      "d1, 5 0.013775409720263546\n",
      "d2, 95 0.024007922169291082\n",
      "28\n",
      "d1:  74.17597352055853 1.3944871493547244 1370.9351746532623\n",
      "d2:  0.010570683428112333 0.000136202227286144 0.21299669768954854\n",
      "d1, 5 0.012252104289153305\n",
      "d2, 95 0.02030544182921364\n",
      "29\n",
      "d1:  89.69245489661716 1.4176082452231111 1287.4569271223017\n",
      "d2:  0.011581914402825546 9.659148880884207e-05 0.3382697279061143\n",
      "d1, 5 0.012506387618050178\n",
      "d2, 95 0.014053276063458702\n",
      "30\n",
      "d1:  101.67934209067641 1.5313139615987184 3173.221569168048\n",
      "d2:  0.011344696342011193 8.068323949405806e-05 0.3246331931249114\n",
      "d1, 5 0.011032874965289504\n",
      "d2, 95 0.013193151890771427\n",
      "31\n",
      "d1:  89.66640193000256 1.4927197597390904 900.3236999264933\n",
      "d2:  0.007486060883124165 4.879699038313528e-05 0.1151539157074748\n",
      "d1, 5 0.010370832572256985\n",
      "d2, 95 0.009951935865776895\n",
      "32\n",
      "d1:  105.1435624070989 1.4976780029924908 1609.529954839783\n",
      "d2:  0.005681326702453407 3.7695916644554e-05 0.19680265906605224\n",
      "d1, 5 0.010675473954221089\n",
      "d2, 95 0.006907182299437308\n",
      "33\n",
      "d1:  130.44019343143538 1.5127819203269426 1752.3583730756209\n",
      "d2:  0.004125180285447441 2.7648340225435312e-05 0.08861381173687512\n",
      "d1, 5 0.009496347733129507\n",
      "d2, 95 0.005627857809134345\n",
      "34\n",
      "d1:  121.10290209681804 1.4174318009574798 1389.9429524885447\n",
      "d2:  0.004372382469372992 2.0468550508460633e-05 0.1222787285559631\n",
      "d1, 5 0.00816783927305072\n",
      "d2, 95 0.00467218893265663\n",
      "35\n",
      "d1:  168.70594644669043 1.5331589566553405 2933.074971654508\n",
      "d2:  0.004234285209595856 1.471107798402022e-05 0.07802321275539133\n",
      "d1, 5 0.008802820150991318\n",
      "d2, 95 0.004691503097347332\n",
      "36\n",
      "d1:  227.86953380859597 1.5432580834292209 5015.947399063139\n",
      "d2:  0.00241316282121231 1.0872876417227071e-05 0.04100737440916822\n",
      "d1, 5 0.008060900614156099\n",
      "d2, 95 0.002934396005868655\n",
      "37\n",
      "d1:  220.56734812032556 1.5383871387336687 3604.7305916334653\n",
      "d2:  0.0015064408286330046 7.5816052659113764e-06 0.02046260456853529\n",
      "d1, 5 0.006957134777391374\n",
      "d2, 95 0.002473130048944457\n",
      "38\n",
      "d1:  321.68959874738573 1.6179515210773245 9867.250479520777\n",
      "d2:  0.002157856328625719 5.722780259547223e-06 0.06304508194942228\n",
      "d1, 5 0.007092450008914179\n",
      "d2, 95 0.0019866915937169277\n",
      "39\n",
      "d1:  247.86526352438202 1.651525323529865 3269.035768266474\n",
      "d2:  0.0012413342622802522 4.072287521756999e-06 0.016881274211459605\n",
      "d1, 5 0.006550058634009355\n",
      "d2, 95 0.001518556614523745\n"
     ]
    }
   ],
   "source": [
    "n_realizations=10000\n",
    "n_samples_array = range(5,40) #[29, 30, 31, 32, 33, 34, 35, 36, 37, 38, 39, 40]\n",
    "\n",
    "d1=[] # hist_dist1, classical\n",
    "d2=[] # hist_dist2, scattered\n",
    "\n",
    "threshold_d1_5=[] #5th percentile\n",
    "threshold_d2_95=[] #95th percentile\n",
    "\n",
    "for n_samples in n_samples_array:\n",
    "    print (n_samples)\n",
    "    d1=[]\n",
    "    d2=[]\n",
    "    for i in range(n_realizations):\n",
    "        samples1 = hist_dist1.rvs(size=n_samples)\n",
    "        d1.append(np.prod(ratio_parent_populations(samples1)))\n",
    "        samples2 = hist_dist2.rvs(size=n_samples)\n",
    "        d2.append(np.prod(ratio_parent_populations(samples2)))\n",
    "\n",
    "\n",
    "    d1 = np.array(d1)\n",
    "    d2 = np.array(d2)\n",
    "\n",
    "    print (\"d1: \", np.mean(d1), np.median(d1), np.std(d1))\n",
    "    print (\"d2: \", np.mean(d2), np.median(d2), np.std(d2))\n",
    "  \n",
    "    d1_per_5 = np.percentile(d1, 5)\n",
    "    d2_per_95 = np.percentile(d2, 95)\n",
    "    print (\"d1, 5\" , d1_per_5)\n",
    "    print (\"d2, 95\", d2_per_95)\n",
    "    \n",
    "    threshold_d1_5.append(d1_per_5)\n",
    "    threshold_d2_95.append(d2_per_95)"
   ]
  },
  {
   "cell_type": "code",
   "execution_count": 27,
   "metadata": {},
   "outputs": [
    {
     "data": {
      "text/plain": [
       "[0.13970001880445,\n",
       " 0.12227555521329812,\n",
       " 0.09726023783443949,\n",
       " 0.08816124939400397,\n",
       " 0.0790755391811269,\n",
       " 0.06859353107037765,\n",
       " 0.058263558255383464,\n",
       " 0.0546804779013808,\n",
       " 0.04723845640742691,\n",
       " 0.041737419939226375,\n",
       " 0.03865266228815076,\n",
       " 0.03417902625625782,\n",
       " 0.0314779269414397,\n",
       " 0.03221835621643337,\n",
       " 0.026292515893413,\n",
       " 0.023248220225262153,\n",
       " 0.02357392435150968,\n",
       " 0.022047454315711135,\n",
       " 0.018949151371850673,\n",
       " 0.01707105116186053,\n",
       " 0.016893443063040726,\n",
       " 0.015014374373089074,\n",
       " 0.013775409720263546,\n",
       " 0.012252104289153305,\n",
       " 0.012506387618050178,\n",
       " 0.011032874965289504,\n",
       " 0.010370832572256985,\n",
       " 0.010675473954221089,\n",
       " 0.009496347733129507,\n",
       " 0.00816783927305072,\n",
       " 0.008802820150991318,\n",
       " 0.008060900614156099,\n",
       " 0.006957134777391374,\n",
       " 0.007092450008914179,\n",
       " 0.006550058634009355]"
      ]
     },
     "execution_count": 27,
     "metadata": {},
     "output_type": "execute_result"
    }
   ],
   "source": [
    "threshold_d1_5"
   ]
  },
  {
   "cell_type": "code",
   "execution_count": 41,
   "metadata": {},
   "outputs": [
    {
     "data": {
      "image/png": "[encoded data removed]",
      "text/plain": [
       "<Figure size 432x288 with 1 Axes>"
      ]
     },
     "metadata": {
      "needs_background": "light"
     },
     "output_type": "display_data"
    },
    {
     "data": {
      "image/png": "[encoded data removed]",
      "text/plain": [
       "<Figure size 576x576 with 1 Axes>"
      ]
     },
     "metadata": {
      "needs_background": "light"
     },
     "output_type": "display_data"
    }
   ],
   "source": [
    "fig = plt.figure()\n",
    "plt.plot(n_samples_array, threshold_d1_5, label='d1 P5 (classical)')\n",
    "plt.plot(n_samples_array, threshold_d2_95, label='d2 P95 (scattered)')\n",
    "plt.legend()\n",
    "\n",
    "fig = plt.figure(figsize=(8,8))\n",
    "plt.plot(n_samples_array, threshold_d1_5, label='5th percentile (classical)')\n",
    "plt.plot(n_samples_array, threshold_d2_95, '--',label='95th percentile (scattering)')\n",
    "plt.xlim([25,40])\n",
    "plt.ylim([0., 0.045])\n",
    "plt.ylabel(\"Percentile value\", size=23)\n",
    "plt.xlabel(\"Number of samples\", size=23)\n",
    "plt.tick_params(axis='both', which='major', labelsize=18)\n",
    "plt.tick_params(axis='both', which='minor', labelsize=13)\n",
    "#plt.title(r\"5th and 95th percentiles for $g-i$ distributions\"+ \"\\n\"+ \"in DESY6 classical and scattering populations\", size=23)\n",
    "plt.legend(prop={'size': 20})\n",
    "plt.tight_layout()\n",
    "plt.savefig(\"./number_of_samples.pdf\")"
   ]
  },
  {
   "cell_type": "code",
   "execution_count": null,
   "metadata": {},
   "outputs": [],
   "source": []
  },
  {
   "cell_type": "code",
   "execution_count": null,
   "metadata": {},
   "outputs": [],
   "source": []
  }
 ],
 "metadata": {
  "colab": {
   "collapsed_sections": [],
   "name": "des-tnos-likelihood-ratio.ipynb",
   "provenance": []
  },
  "kernelspec": {
   "display_name": "Python 3",
   "language": "python",
   "name": "python3"
  },
  "language_info": {
   "codemirror_mode": {
    "name": "ipython",
    "version": 3
   },
   "file_extension": ".py",
   "mimetype": "text/x-python",
   "name": "python",
   "nbconvert_exporter": "python",
   "pygments_lexer": "ipython3",
   "version": "3.7.3"
  }
 },
 "nbformat": 4,
 "nbformat_minor": 1
}
