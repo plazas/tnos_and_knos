{
 "cells": [
  {
   "cell_type": "code",
   "execution_count": 2,
   "metadata": {},
   "outputs": [],
   "source": [
    "import numpy as np\n",
    "from astropy import units as u\n"
   ]
  },
  {
   "cell_type": "code",
   "execution_count": 132,
   "metadata": {},
   "outputs": [],
   "source": [
    "def period (M, a):\n",
    "    \"\"\"Period (seconds) from Kepler's Third Law\n",
    "    \n",
    "    Parameters\n",
    "    ----------\n",
    "    M : `flt`\n",
    "        mass of the system (M1 + M2), in Kg\n",
    "    a : `flt`\n",
    "        semi-major axis, in m\n",
    "        \n",
    "    Returns\n",
    "    -------\n",
    "    Period : `flt`\n",
    "        Period in seconds\n",
    "    \"\"\"\n",
    "    G = 6.6742*10**-11 # m^3 s**-2 kg**-1\n",
    "    return 2*np.pi*np.sqrt( (a**3)/(G*M))\n",
    "\n",
    "    "
   ]
  },
  {
   "cell_type": "code",
   "execution_count": 40,
   "metadata": {},
   "outputs": [],
   "source": [
    "def radius_from_H (H, albedo=0.1):\n",
    "    # radius in meters\n",
    "    return (664.5*10**3 / np.sqrt(albedo)) * 10**(-0.2*H) # meters, Eq. 1 of https://arxiv.org/pdf/0804.2495.pdf"
   ]
  },
  {
   "cell_type": "code",
   "execution_count": 133,
   "metadata": {},
   "outputs": [],
   "source": [
    "def mass_from_radius (r, density=1000):\n",
    "    # 1 gr / cm^3 = 1000 kg / m**3\n",
    "    volume = (4*np.pi/3)*r**3\n",
    "    return density*volume #Kg, if r in meters"
   ]
  },
  {
   "cell_type": "code",
   "execution_count": 62,
   "metadata": {},
   "outputs": [],
   "source": [
    "s = 1*u.arcsec.to(u.rad)\n",
    "d = 54*u.au.to(u.m)"
   ]
  },
  {
   "cell_type": "code",
   "execution_count": 112,
   "metadata": {},
   "outputs": [],
   "source": [
    "a = s*d/2 # Semi-major axis is half the distance between two bodies at max separation."
   ]
  },
  {
   "cell_type": "code",
   "execution_count": 113,
   "metadata": {},
   "outputs": [],
   "source": [
    "r = radius_from_H (4.5, albedo=0.04)"
   ]
  },
  {
   "cell_type": "code",
   "execution_count": 125,
   "metadata": {},
   "outputs": [],
   "source": [
    "m_sys = mass_from_radius (r) # Total mass of the system"
   ]
  },
  {
   "cell_type": "code",
   "execution_count": 126,
   "metadata": {},
   "outputs": [
    {
     "data": {
      "text/plain": [
       "418277.9680686121"
      ]
     },
     "execution_count": 126,
     "metadata": {},
     "output_type": "execute_result"
    }
   ],
   "source": [
    "r"
   ]
  },
  {
   "cell_type": "code",
   "execution_count": 127,
   "metadata": {},
   "outputs": [
    {
     "data": {
      "text/plain": [
       "7.663436917733471e+19"
      ]
     },
     "execution_count": 127,
     "metadata": {},
     "output_type": "execute_result"
    }
   ],
   "source": [
    "m "
   ]
  },
  {
   "cell_type": "code",
   "execution_count": 128,
   "metadata": {},
   "outputs": [],
   "source": [
    "p = period (m, a)"
   ]
  },
  {
   "cell_type": "code",
   "execution_count": 129,
   "metadata": {},
   "outputs": [],
   "source": [
    "p = p*u.second"
   ]
  },
  {
   "cell_type": "code",
   "execution_count": 130,
   "metadata": {},
   "outputs": [
    {
     "name": "stdout",
     "output_type": "stream",
     "text": [
      "Period: \n",
      " 7613152.533007858 s, \n",
      " 2114.764592502183 h, \n",
      " 88.11519135425762 d, \n",
      " 0.24124624600754993 yr\n"
     ]
    }
   ],
   "source": [
    "print (f\"Period: \\n {p}, \\n {p.to(u.hour)}, \\n {p.to(u.day)}, \\n {p.to(u.year)}\")"
   ]
  },
  {
   "cell_type": "code",
   "execution_count": null,
   "metadata": {},
   "outputs": [],
   "source": []
  }
 ],
 "metadata": {
  "kernelspec": {
   "display_name": "Python 3",
   "language": "python",
   "name": "python3"
  },
  "language_info": {
   "codemirror_mode": {
    "name": "ipython",
    "version": 3
   },
   "file_extension": ".py",
   "mimetype": "text/x-python",
   "name": "python",
   "nbconvert_exporter": "python",
   "pygments_lexer": "ipython3",
   "version": "3.7.3"
  }
 },
 "nbformat": 4,
 "nbformat_minor": 2
}
